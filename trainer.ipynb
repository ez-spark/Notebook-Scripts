{
  "nbformat": 4,
  "nbformat_minor": 0,
  "metadata": {
    "colab": {
      "provenance": []
    },
    "kernelspec": {
      "name": "python3",
      "display_name": "Python 3"
    },
    "language_info": {
      "name": "python"
    }
  },
  "cells": [
    {
      "cell_type": "markdown",
      "source": [
        "# Installing Python3.7\n",
        "\n",
        "- You must manually select python3.7 among the python alternatives that will show up"
      ],
      "metadata": {
        "id": "2Mw5ELhlsQ_h"
      }
    },
    {
      "cell_type": "code",
      "execution_count": null,
      "metadata": {
        "id": "ILFIDUhCjuzR"
      },
      "outputs": [],
      "source": [
        "!sudo apt-get install python3.7\n",
        "!sudo update-alternatives --install /usr/bin/python3 python3 /usr/bin/python3.7 1\n",
        "!sudo update-alternatives --config python3\n",
        "!sudo apt install python3-pip"
      ]
    },
    {
      "cell_type": "markdown",
      "source": [
        "# Check if Python3.7 has been installed correctly"
      ],
      "metadata": {
        "id": "nJsZhKU3seA9"
      }
    },
    {
      "cell_type": "code",
      "source": [
        "!python --version"
      ],
      "metadata": {
        "id": "LCGRjM9-kcQi"
      },
      "execution_count": null,
      "outputs": []
    },
    {
      "cell_type": "markdown",
      "source": [
        "# Install some other dependencies"
      ],
      "metadata": {
        "id": "yZdlKIeBs8t4"
      }
    },
    {
      "cell_type": "code",
      "source": [
        "!sudo add-apt-repository ppa:deadsnakes/ppa\n",
        "!sudo apt-get update\n",
        "!sudo apt install python3.7-distutils"
      ],
      "metadata": {
        "id": "aZxpVet5k_Gz"
      },
      "execution_count": null,
      "outputs": []
    },
    {
      "cell_type": "markdown",
      "source": [
        "# Install Pyezspark python package"
      ],
      "metadata": {
        "id": "Hqm4dmfCsjbJ"
      }
    },
    {
      "cell_type": "code",
      "source": [
        "!python3 -m pip install Pyezspark"
      ],
      "metadata": {
        "id": "2Jg0BNTnkyMU"
      },
      "execution_count": null,
      "outputs": []
    },
    {
      "cell_type": "markdown",
      "source": [
        "# You must set manually the Training public key"
      ],
      "metadata": {
        "id": "CED9IuNFsvkT"
      }
    },
    {
      "cell_type": "code",
      "source": [
        "!python -c '''\n",
        "import pyezspark\n",
        "training_public_key = ''\n",
        "ez = pyezspark.EzSpark(training_public_key)\n",
        "ez.execute()\n",
        "'''"
      ],
      "metadata": {
        "id": "zFlMLi0SlpaS"
      },
      "execution_count": null,
      "outputs": []
    }
  ]
}